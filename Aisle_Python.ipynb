{
 "cells": [
  {
   "cell_type": "code",
   "execution_count": 1,
   "id": "8c4d8baf",
   "metadata": {},
   "outputs": [],
   "source": [
    "bst = 0.10 #basic sales tax\n",
    "imp_duty = 0.05 # import duty on imported products\n",
    "exempt_products = ['book','chocolates','headache pills']"
   ]
  },
  {
   "cell_type": "code",
   "execution_count": 2,
   "id": "2e1e3055",
   "metadata": {},
   "outputs": [],
   "source": [
    "input1 = {'book':12.49,\n",
    "         'music CD':14.99,\n",
    "         'chocolates':0.85}\n",
    "\n",
    "input2 = {'im_chocolates':10,\n",
    "         'im_perfume':47.50}\n",
    "\n",
    "input3 = {'im_prefume':27.99,\n",
    "         'perfume':18.99,\n",
    "         'headache pills': 9.75,\n",
    "         'im_chocolates':11.25}\n"
   ]
  },
  {
   "cell_type": "code",
   "execution_count": 11,
   "id": "5842db49",
   "metadata": {},
   "outputs": [],
   "source": [
    "def SalesTax(dict):\n",
    "    sales_tax = 0\n",
    "    amount = 0\n",
    "    total = 0\n",
    "    \n",
    "    for k,v in dict.items():\n",
    "        if k[0:2] == 'im':\n",
    "\n",
    "            key = k.replace('_',' ').split()\n",
    "            if k[0:2] == 'im' and key[-1] in exempt_products:\n",
    "\n",
    "\n",
    "                amount = round((v + (v*imp_duty)),2) \n",
    "                sales_tax = round((sales_tax + v*imp_duty),2)\n",
    "                total += amount \n",
    "                print(f\"1 imported box of {key[-1]}:{amount}\")\n",
    "\n",
    "            else:\n",
    "                amount = round((v + (v*imp_duty) + (v*bst)),2)\n",
    "                sales_tax = round((sales_tax + v*imp_duty + (v*bst)),2)\n",
    "                total += amount \n",
    "\n",
    "                print(f\"1 imported box of {key[-1]} : {amount}\")\n",
    "        elif k in exempt_products:\n",
    "            amount = round((v),2)\n",
    "            sales_tax = round((sales_tax),2) \n",
    "            total += amount \n",
    "\n",
    "            print(f\"1 packet of {k} : {amount}\")\n",
    "\n",
    "        else:\n",
    "            amount = round((v + (v*bst)),2)\n",
    "            sales_tax = round((sales_tax + (v*bst)),2)\n",
    "            total += amount \n",
    "            print(f\"1 bottle of {k} :{amount}\")\n",
    "\n",
    "\n",
    "\n",
    "    print(f\"Sales tax : {round((sales_tax),2)}\")\n",
    "    print(f\"Total : {total}\")"
   ]
  },
  {
   "cell_type": "code",
   "execution_count": 12,
   "id": "5e94746f",
   "metadata": {},
   "outputs": [
    {
     "name": "stdout",
     "output_type": "stream",
     "text": [
      "1 imported box of prefume : 32.19\n",
      "1 bottle of perfume :20.89\n",
      "1 packet of headache pills : 9.75\n",
      "1 imported box of chocolates:11.81\n",
      "Sales tax : 6.66\n",
      "Total : 74.64\n"
     ]
    }
   ],
   "source": [
    "SalesTax(input3)"
   ]
  },
  {
   "cell_type": "code",
   "execution_count": null,
   "id": "c28b988a",
   "metadata": {},
   "outputs": [],
   "source": []
  }
 ],
 "metadata": {
  "kernelspec": {
   "display_name": "Python 3 (ipykernel)",
   "language": "python",
   "name": "python3"
  },
  "language_info": {
   "codemirror_mode": {
    "name": "ipython",
    "version": 3
   },
   "file_extension": ".py",
   "mimetype": "text/x-python",
   "name": "python",
   "nbconvert_exporter": "python",
   "pygments_lexer": "ipython3",
   "version": "3.9.7"
  }
 },
 "nbformat": 4,
 "nbformat_minor": 5
}
